{
 "cells": [
  {
   "cell_type": "markdown",
   "metadata": {},
   "source": [
    "### Implementing FunkSVD\n",
    "\n",
    "In this notebook we will take a look at writing our own function that performs FunkSVD, which will follow the steps you saw in the previous video.  If you find that you aren't ready to tackle this task on your own, feel free to skip to the following video where you can watch as I walk through the steps.\n",
    "\n",
    "To test our algorithm, we will run it on the subset of the data you worked with earlier.  Run the cell below to get started."
   ]
  },
  {
   "cell_type": "code",
   "execution_count": 1,
   "metadata": {},
   "outputs": [
    {
     "name": "stdout",
     "output_type": "stream",
     "text": [
      "[[ 10.  10.  10.  10.]\n",
      " [ 10.   4.   9.  10.]\n",
      " [  8.   9.  10.   5.]\n",
      " [  9.   8.  10.  10.]\n",
      " [ 10.   5.   9.   9.]\n",
      " [  6.   4.  10.   6.]\n",
      " [  9.   8.  10.   9.]\n",
      " [ 10.   5.   9.   8.]\n",
      " [  7.   8.  10.   8.]\n",
      " [  9.   5.   9.   7.]\n",
      " [  9.   8.  10.   8.]\n",
      " [  9.  10.  10.   9.]\n",
      " [ 10.   9.  10.   8.]\n",
      " [  5.   8.   5.   8.]\n",
      " [ 10.   8.  10.  10.]\n",
      " [  9.   9.  10.  10.]\n",
      " [  9.   8.   8.   8.]\n",
      " [ 10.   8.   1.  10.]\n",
      " [  5.   6.  10.  10.]\n",
      " [  8.   7.  10.   7.]]\n"
     ]
    }
   ],
   "source": [
    "import numpy as np\n",
    "import pandas as pd\n",
    "import matplotlib.pyplot as plt\n",
    "from scipy import sparse\n",
    "import svd_tests as t\n",
    "%matplotlib inline\n",
    "\n",
    "# Read in the datasets\n",
    "movies = pd.read_csv('data/movies_clean.csv')\n",
    "reviews = pd.read_csv('data/reviews_clean.csv')\n",
    "\n",
    "del movies['Unnamed: 0']\n",
    "del reviews['Unnamed: 0']\n",
    "\n",
    "# Create user-by-item matrix\n",
    "user_items = reviews[['user_id', 'movie_id', 'rating', 'timestamp']]\n",
    "user_by_movie = user_items.groupby(['user_id', 'movie_id'])['rating'].max().unstack()\n",
    "\n",
    "# Create data subset\n",
    "user_movie_subset = user_by_movie[[73486, 75314,  68646, 99685]].dropna(axis=0)\n",
    "ratings_mat = np.matrix(user_movie_subset)\n",
    "print(ratings_mat)"
   ]
  },
  {
   "cell_type": "markdown",
   "metadata": {},
   "source": [
    "`1.` You will use the **user_movie_subset** matrix to show that your FunkSVD algorithm will converge.  In the below cell, use the comments and document string to assist you as you complete writing your own function to complete FunkSVD.  You may also want to try to complete the function on your own without the assistance of comments.  You may feel free to remove and add to the function in any way that gets you a working solution! \n",
    "\n",
    "**Notice:** There isn't a sigma matrix in this version of the matrix factorization."
   ]
  },
  {
   "cell_type": "code",
   "execution_count": 83,
   "metadata": {},
   "outputs": [],
   "source": [
    "def FunkSVD(ratings_mat, latent_features=4, learning_rate=0.0001, n_iters=100):\n",
    "    '''\n",
    "    This function performs matrix factorization using a basic form of FunkSVD with no regularization\n",
    "    \n",
    "    INPUT:\n",
    "        ratings_mat - (numpy array) a matrix with users as rows, movies as columns, and ratings as values\n",
    "        latent_features - (int) the number of latent features used\n",
    "        learning_rate - (float) the learning rate \n",
    "        n_iters - (int) the number of iterations\n",
    "    \n",
    "    OUTPUT:\n",
    "        user_mat - (numpy array) a user by latent feature matrix\n",
    "        movie_mat - (numpy array) a latent feature by movie matrix\n",
    "    '''\n",
    "    \n",
    "    # Set up useful values to be used through the rest of the function\n",
    "    n_users = ratings_mat.shape[0] # number of rows in the matrix\n",
    "    n_movies = ratings_mat.shape[1] # number of movies in the matrix\n",
    "    num_ratings = ratings_mat.size - np.isnan(ratings_mat).sum() # total number of ratings in the matrix\n",
    "    \n",
    "    # initialize the user and movie matrices with random values\n",
    "    user_mat = np.random.rand(n_users, latent_features) # user matrix filled with random values of shape user x latent \n",
    "    movie_mat = np.random.rand(latent_features, n_movies) # movie matrix filled with random values of shape latent x movies\n",
    "    \n",
    "    # header for running results\n",
    "    print(\"Optimization Statistics\")\n",
    "    print(\"Iterations | Mean Squared Error \")\n",
    "    \n",
    "    # for each iteration\n",
    "    for itr in range(n_iters):\n",
    "        # initialize Mean-squared-error\n",
    "        mserr = 0\n",
    "        \n",
    "        # For each user-movie pair\n",
    "        for i in range(n_users):\n",
    "            for j in range(n_movies):\n",
    "                \n",
    "                # if the rating exists\n",
    "                if(ratings_mat[i, j] > 0): \n",
    "                    \n",
    "                    # compute the error as the actual minus the dot product of the user and movie latent features\n",
    "                    diff = ratings_mat[i, j] - np.dot(user_mat[i,:], movie_mat[:, j])\n",
    "                    \n",
    "                    # Keep track of the total sum of squared errors for the matrix\n",
    "                    mserr += diff**2\n",
    "                    \n",
    "                    # update the values in each matrix in the direction of the gradient\n",
    "                    for k in range(latent_features):\n",
    "                        user_mat[i, k]  += learning_rate * (2 * movie_mat[k, j] * diff) # Notice the index order\n",
    "                        movie_mat[k, j] += learning_rate * (2 * user_mat[i, k] * diff) # Notice the decent direction\n",
    " \n",
    "        # print results for iteration \n",
    "        if((itr+1) == 1):\n",
    "            print('%d \\t\\t %f' %(itr+1, mserr/num_ratings))\n",
    "        elif((itr+1)%50 == 0):\n",
    "            print('%d \\t\\t %f' %(itr+1, mserr/num_ratings))\n",
    "        elif((itr+1) == n_iters):\n",
    "            print('%d \\t\\t %f' %(itr+1, mserr/num_ratings))\n",
    "        \n",
    "    return user_mat, movie_mat "
   ]
  },
  {
   "cell_type": "markdown",
   "metadata": {},
   "source": [
    "`2.` Try out your function on the **user_movie_subset** dataset.  First try 4 latent features, a learning rate of 0.005, and 10 iterations.  When you take the dot product of the resulting U and V matrices, how does the resulting **user_movie** matrix compare to the original subset of the data?"
   ]
  },
  {
   "cell_type": "code",
   "execution_count": 75,
   "metadata": {},
   "outputs": [
    {
     "name": "stdout",
     "output_type": "stream",
     "text": [
      "Optimization Statistics\n",
      "Iterations | Mean Squared Error \n",
      "1 \t\t 51.359033\n",
      "50 \t\t 1.352997\n",
      "100 \t\t 0.420102\n",
      "150 \t\t 0.197443\n",
      "200 \t\t 0.027792\n",
      "250 \t\t 0.002616\n",
      "300 \t\t 0.000303\n",
      "350 \t\t 0.000037\n",
      "400 \t\t 0.000005\n",
      "450 \t\t 0.000001\n",
      "500 \t\t 0.000000\n"
     ]
    }
   ],
   "source": [
    "user_mat, movie_mat = FunkSVD(ratings_mat, learning_rate=0.002, n_iters=500) "
   ]
  },
  {
   "cell_type": "code",
   "execution_count": 65,
   "metadata": {},
   "outputs": [
    {
     "name": "stdout",
     "output_type": "stream",
     "text": [
      "[[  9.99989189   9.99995996   9.99999146  10.00012562]\n",
      " [  9.99931424   3.99975814   8.99994701  10.00078672]\n",
      " [  7.9998395    8.99994315   9.99998858   5.00018516]\n",
      " [  8.99975541   7.99991697   9.99998327  10.00027991]\n",
      " [ 10.00095462   5.00033688   9.00007627   8.99890781]\n",
      " [  6.00040502   4.00014121  10.00003146   5.99953733]\n",
      " [  9.0004588    8.00015795  10.00003512   8.99947677]\n",
      " [  9.9997079    4.99989562   8.99997615   8.00033479]\n",
      " [  7.00017691   8.00006403  10.00001345   7.99979512]\n",
      " [  9.00061473   5.00021717   9.00004695   6.9992938 ]\n",
      " [  8.99999824   8.00000006   9.99999819   7.99999925]\n",
      " [  9.00003286  10.00000915  10.00000069   8.9999622 ]\n",
      " [  9.99921974   8.99972396   9.99993766   8.0008933 ]\n",
      " [  5.00092467   8.0003248    5.00007181   7.99894079]\n",
      " [  9.99996589   7.99998613   9.9999957   10.00003868]\n",
      " [  8.99967039   8.99988026   9.99997265  10.00037892]\n",
      " [  8.99913674   7.99970103   7.99993331   8.00098485]\n",
      " [ 10.00015641   8.00005593   1.00001304   9.99982133]\n",
      " [  4.99944058   5.99980458   9.99995669  10.00063966]\n",
      " [  8.00087799   7.00031158  10.00006979   6.99899327]]\n",
      "[[ 10.  10.  10.  10.]\n",
      " [ 10.   4.   9.  10.]\n",
      " [  8.   9.  10.   5.]\n",
      " [  9.   8.  10.  10.]\n",
      " [ 10.   5.   9.   9.]\n",
      " [  6.   4.  10.   6.]\n",
      " [  9.   8.  10.   9.]\n",
      " [ 10.   5.   9.   8.]\n",
      " [  7.   8.  10.   8.]\n",
      " [  9.   5.   9.   7.]\n",
      " [  9.   8.  10.   8.]\n",
      " [  9.  10.  10.   9.]\n",
      " [ 10.   9.  10.   8.]\n",
      " [  5.   8.   5.   8.]\n",
      " [ 10.   8.  10.  10.]\n",
      " [  9.   9.  10.  10.]\n",
      " [  9.   8.   8.   8.]\n",
      " [ 10.   8.   1.  10.]\n",
      " [  5.   6.  10.  10.]\n",
      " [  8.   7.  10.   7.]]\n"
     ]
    }
   ],
   "source": [
    "#Compare the predicted and actual results\n",
    "print(np.dot(user_mat, movie_mat))\n",
    "print(ratings_mat)"
   ]
  },
  {
   "cell_type": "markdown",
   "metadata": {},
   "source": [
    "The predicted rating from the dot product are already starting to look a lot like the original data values afrer only 10 iterations. "
   ]
  },
  {
   "cell_type": "markdown",
   "metadata": {},
   "source": [
    "The last time we placed an **np.nan** value into this matrix the entire svd algorithm in python broke.  Let's see if that is still the case using your FunkSVD function.  In the below cell, I have placed a nan into the first cell of your numpy array.  \n",
    "\n",
    "`3.` Use 4 latent features, a learning rate of 0.005, and 250 iterations.  Are you able to run your SVD without it breaking (something that was not true about the python built in)?  Do you get a prediction for the nan value?  What is your prediction for the missing value? Use the cells below to answer these questions."
   ]
  },
  {
   "cell_type": "code",
   "execution_count": 84,
   "metadata": {},
   "outputs": [
    {
     "data": {
      "text/plain": [
       "matrix([[ nan,  10.,  10.,  10.],\n",
       "        [ 10.,   4.,   9.,  10.],\n",
       "        [  8.,   9.,  10.,   5.],\n",
       "        [  9.,   8.,  10.,  10.],\n",
       "        [ 10.,   5.,   9.,   9.],\n",
       "        [  6.,   4.,  10.,   6.],\n",
       "        [  9.,   8.,  10.,   9.],\n",
       "        [ 10.,   5.,   9.,   8.],\n",
       "        [  7.,   8.,  10.,   8.],\n",
       "        [  9.,   5.,   9.,   7.],\n",
       "        [  9.,   8.,  10.,   8.],\n",
       "        [  9.,  10.,  10.,   9.],\n",
       "        [ 10.,   9.,  10.,   8.],\n",
       "        [  5.,   8.,   5.,   8.],\n",
       "        [ 10.,   8.,  10.,  10.],\n",
       "        [  9.,   9.,  10.,  10.],\n",
       "        [  9.,   8.,   8.,   8.],\n",
       "        [ 10.,   8.,   1.,  10.],\n",
       "        [  5.,   6.,  10.,  10.],\n",
       "        [  8.,   7.,  10.,   7.]])"
      ]
     },
     "execution_count": 84,
     "metadata": {},
     "output_type": "execute_result"
    }
   ],
   "source": [
    "# Here we are placing a nan into our original subset matrix\n",
    "ratings_mat[0, 0] = np.nan\n",
    "ratings_mat"
   ]
  },
  {
   "cell_type": "code",
   "execution_count": 86,
   "metadata": {},
   "outputs": [
    {
     "name": "stdout",
     "output_type": "stream",
     "text": [
      "Optimization Statistics\n",
      "Iterations | Mean Squared Error \n",
      "1 \t\t 44.258797\n",
      "50 \t\t 0.119201\n",
      "100 \t\t 0.000154\n",
      "150 \t\t 0.000000\n",
      "200 \t\t 0.000000\n",
      "250 \t\t 0.000000\n"
     ]
    }
   ],
   "source": [
    "# run SVD on the matrix with the missing value\n",
    "user_mat, movie_mat = user_mat, movie_mat = FunkSVD(ratings_mat, latent_features=4, learning_rate=0.005, n_iters=250) "
   ]
  },
  {
   "cell_type": "code",
   "execution_count": 87,
   "metadata": {},
   "outputs": [
    {
     "name": "stdout",
     "output_type": "stream",
     "text": [
      "The predicted value for the missing rating is 9.842176160336237:\n",
      "\n",
      "The actual value for the missing rating is nan:\n",
      "\n",
      "That's right! You just predicted a rating for a user-movie pair that was never rated!\n",
      "But if you look in the original matrix, this was actually a value of 10. Not bad!\n"
     ]
    }
   ],
   "source": [
    "# Run this cell to see if you were able to predict for the missing value\n",
    "preds = np.dot(user_mat, movie_mat)\n",
    "print(\"The predicted value for the missing rating is {}:\".format(preds[0,0]))\n",
    "print()\n",
    "print(\"The actual value for the missing rating is {}:\".format(ratings_mat[0,0]))\n",
    "print()\n",
    "assert np.isnan(preds[0,0]) == False\n",
    "print(\"That's right! You just predicted a rating for a user-movie pair that was never rated!\")\n",
    "print(\"But if you look in the original matrix, this was actually a value of 10. Not bad!\")"
   ]
  },
  {
   "cell_type": "markdown",
   "metadata": {},
   "source": [
    "Now let's extend this to a more realistic example. Unfortunately, running this function on your entire user-movie matrix is still not something you likely want to do on your local machine.  However, we can see how well this example extends to 1000 users.  In the above portion, you were using a very small subset of data with no missing values.\n",
    "\n",
    "`4.` Given the size of this matrix, this will take quite a bit of time.  Consider the following hyperparameters: 4 latent features, 0.005 learning rate, and 20 iterations.  Grab a snack, take a walk, and this should be done running in a bit."
   ]
  },
  {
   "cell_type": "code",
   "execution_count": 88,
   "metadata": {},
   "outputs": [
    {
     "name": "stdout",
     "output_type": "stream",
     "text": [
      "Optimization Statistics\n",
      "Iterations | Mean Squared Error \n",
      "1 \t\t 23.640420\n",
      "20 \t\t 1.065694\n"
     ]
    }
   ],
   "source": [
    "# Setting up a matrix of the first 1000 users with movie ratings\n",
    "first_1000_users = np.matrix(user_by_movie.head(1000))\n",
    "\n",
    "# perform funkSVD on the matrix of the top 1000 users\n",
    "user_mat, movie_mat = FunkSVD(first_1000_users, latent_features=4, learning_rate=0.005, n_iters=20) "
   ]
  },
  {
   "cell_type": "markdown",
   "metadata": {},
   "source": [
    "`5.` Now that you have a set of predictions for each user-movie pair,  let's answer a few questions about your results. Provide the correct values for each of the variables below, and check your solutions using the tests below."
   ]
  },
  {
   "cell_type": "code",
   "execution_count": 89,
   "metadata": {},
   "outputs": [
    {
     "name": "stdout",
     "output_type": "stream",
     "text": [
      "The number of actual ratings in the first_1000_users is 10852.\n",
      "\n",
      "The number of ratings made for user-movie pairs that didn't have ratings is 31234148\n"
     ]
    }
   ],
   "source": [
    "# Replace each of the comments below with the correct values\n",
    "num_ratings = first_1000_users.size - np.isnan(first_1000_users).sum() # How many actual ratings exist in first_1000_users\n",
    "print(\"The number of actual ratings in the first_1000_users is {}.\".format(num_ratings))\n",
    "print()\n",
    "\n",
    "\n",
    "ratings_for_missing = np.isnan(first_1000_users).sum() # How many ratings did we make for user-movie pairs that didn't actually have ratings\n",
    "print(\"The number of ratings made for user-movie pairs that didn't have ratings is {}\".format(ratings_for_missing))"
   ]
  },
  {
   "cell_type": "code",
   "execution_count": 90,
   "metadata": {},
   "outputs": [
    {
     "name": "stdout",
     "output_type": "stream",
     "text": [
      "Nice job!  Looks like you have predictions made for all the missing user-movie pairs! But I still have one question... How good are they?\n"
     ]
    }
   ],
   "source": [
    "# Test your results against the solution\n",
    "assert num_ratings == 10852, \"Oops!  The number of actual ratings doesn't quite look right.\"\n",
    "assert ratings_for_missing == 31234148, \"Oops!  The number of movie-user pairs that you made ratings for that didn't actually have ratings doesn't look right.\"\n",
    "\n",
    "# Make sure you made predictions on all the missing user-movie pairs\n",
    "preds = np.dot(user_mat, movie_mat)\n",
    "assert np.isnan(preds).sum() == 0\n",
    "print(\"Nice job!  Looks like you have predictions made for all the missing user-movie pairs! But I still have one question... How good are they?\")"
   ]
  },
  {
   "cell_type": "code",
   "execution_count": null,
   "metadata": {
    "collapsed": true
   },
   "outputs": [],
   "source": []
  }
 ],
 "metadata": {
  "kernelspec": {
   "display_name": "Python 3",
   "language": "python",
   "name": "python3"
  },
  "language_info": {
   "codemirror_mode": {
    "name": "ipython",
    "version": 3
   },
   "file_extension": ".py",
   "mimetype": "text/x-python",
   "name": "python",
   "nbconvert_exporter": "python",
   "pygments_lexer": "ipython3",
   "version": "3.6.3"
  }
 },
 "nbformat": 4,
 "nbformat_minor": 2
}
